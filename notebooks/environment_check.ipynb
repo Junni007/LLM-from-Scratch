{
 "cells": [
  {
   "cell_type": "markdown",
   "metadata": {},
   "source": [
    "# Environment Verification Notebook\n",
    "\n",
    "This notebook verifies that all required packages are installed and working correctly for the LLM from Scratch implementation."
   ]
  },
  {
   "cell_type": "code",
   "execution_count": null,
   "metadata": {},
   "outputs": [],
   "source": [
    "# Import required packages\n",
    "import torch\n",
    "import numpy as np\n",
    "import matplotlib.pyplot as plt\n",
    "import tqdm\n",
    "\n",
    "print(\"Environment verification started...\")\n",
    "\n",
    "# Check PyTorch installation\n",
    "print(f\"PyTorch version: {torch.__version__}\")\n",
    "\n",
    "# Check if CUDA is available\n",
    "if torch.cuda.is_available():\n",
    "    print(f\"CUDA available: Yes\")\n",
    "    print(f\"CUDA version: {torch.version.cuda}\")\n",
    "    print(f\"Number of GPUs: {torch.cuda.device_count()}\")\n",
    "    if torch.cuda.device_count() > 0:\n",
    "        print(f\"GPU name: {torch.cuda.get_device_name(0)}\")\n",
    "else:\n",
    "    print(\"CUDA available: No\")\n",
    "\n",
    "# Check NumPy installation\n",
    "print(f\"NumPy version: {np.__version__}\")\n",
    "\n",
    "# Check if we can create a simple tensor\n",
    "try:\n",
    "    x = torch.tensor([1, 2, 3])\n",
    "    y = torch.tensor([4, 5, 6])\n",
    "    z = x + y\n",
    "    print(f\"Basic tensor operation successful: {z}\")\n",
    "except Exception as e:\n",
    "    print(f\"Error in tensor operation: {e}\")\n",
    "\n",
    "print(\"Environment verification completed.\")"
   ]
  }
 ],
 "metadata": {
  "kernelspec": {
   "display_name": "Python 3",
   "language": "python",
   "name": "python3"
  },
  "language_info": {
   "codemirror_mode": {
    "name": "ipython",
    "version": 3
   },
   "file_extension": ".py",
   "mimetype": "text/x-python",
   "name": "python",
   "nbconvert_exporter": "python",
   "pygments_lexer": "ipython3",
   "version": "3.9.7"
  }
 },
 "nbformat": 4,
 "nbformat_minor": 5
}